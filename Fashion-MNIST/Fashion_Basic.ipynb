{
 "cells": [
  {
   "cell_type": "code",
   "execution_count": 1,
   "metadata": {},
   "outputs": [],
   "source": [
    "from __future__ import absolute_import\n",
    "from __future__ import division\n",
    "from __future__ import print_function\n",
    "\n",
    "import warnings\n",
    "warnings.filterwarnings('ignore')\n",
    "\n",
    "import numpy as np\n",
    "import tensorflow as tf\n",
    "\n",
    "from baseline import Baseline\n",
    "from system_t import System_T"
   ]
  },
  {
   "cell_type": "markdown",
   "metadata": {},
   "source": [
    "# Load Fashion-MNIST dataset from keras"
   ]
  },
  {
   "cell_type": "code",
   "execution_count": 2,
   "metadata": {},
   "outputs": [],
   "source": [
    "fashion = tf.keras.datasets.fashion_mnist\n",
    "(fashion_train_images,fashion_train_labels), (fashion_test_images, fashion_test_labels) = fashion.load_data()\n",
    "\n",
    "fashion_train_labels = fashion_train_labels\n",
    "fashion_test_labels = fashion_test_labels\n",
    "fashion_train_images = fashion_train_images.reshape((60000, 28, 28, 1)) / 255.0\n",
    "fashion_test_images = fashion_test_images.reshape((10000, 28, 28, 1)) / 255.0\n",
    "\n",
    "train_images = fashion_train_images\n",
    "train_labels = fashion_train_labels"
   ]
  },
  {
   "cell_type": "markdown",
   "metadata": {},
   "source": [
    "# Basic setting: slices have the same amounts of data"
   ]
  },
  {
   "cell_type": "code",
   "execution_count": 3,
   "metadata": {},
   "outputs": [
    {
     "name": "stdout",
     "output_type": "stream",
     "text": [
      "Number of slices : 10\n",
      "(1000, 28, 28, 1) (1000, 10) 10\n"
     ]
    }
   ],
   "source": [
    "def shuffle(data, label):\n",
    "    shuffle = np.arange(len(data))\n",
    "    np.random.shuffle(shuffle)\n",
    "    data = data[shuffle]\n",
    "    label = label[shuffle]\n",
    "    return data, label\n",
    "\n",
    "num_class = len(np.unique(train_labels))\n",
    "print(\"Number of slices : %d\" % num_class)\n",
    "\n",
    "y_train_one_hot = tf.keras.utils.to_categorical(train_labels)\n",
    "mixed_data = (train_images, y_train_one_hot)\n",
    "\n",
    "initial_data_array = []\n",
    "val_data_dict = []\n",
    "add_data_dict = []\n",
    "    \n",
    "val_data_num = 500\n",
    "\n",
    "for i in range(num_class):\n",
    "    data_num = 100\n",
    "    initial_data_array.append(data_num)\n",
    "    idx = np.argmax(mixed_data[1], axis=1) == i\n",
    "\n",
    "    val_data_dict.append((mixed_data[0][idx][data_num:data_num+val_data_num], mixed_data[1][idx][data_num:data_num+val_data_num]))\n",
    "    add_data_dict.append((mixed_data[0][idx][data_num+val_data_num:], mixed_data[1][idx][data_num+val_data_num:]))\n",
    "\n",
    "    if i == 0:\n",
    "        train_data = mixed_data[0][idx][:data_num]\n",
    "        train_label = mixed_data[1][idx][:data_num]\n",
    "        val_data = mixed_data[0][idx][data_num:data_num+val_data_num]\n",
    "        val_label = mixed_data[1][idx][data_num:data_num+val_data_num]\n",
    "    else:\n",
    "        train_data = np.concatenate((train_data, mixed_data[0][idx][:data_num]), axis=0)\n",
    "        train_label = np.concatenate((train_label, mixed_data[1][idx][:data_num]), axis=0) \n",
    "        val_data = np.concatenate((val_data, mixed_data[0][idx][data_num:data_num+val_data_num]), axis=0)\n",
    "        val_label = np.concatenate((val_label, mixed_data[1][idx][data_num:data_num+val_data_num]), axis=0)   \n",
    "    \n",
    "train_data, train_label = shuffle(train_data, train_label)\n",
    "print(train_data.shape, train_label.shape, num_class)"
   ]
  },
  {
   "cell_type": "markdown",
   "metadata": {},
   "source": [
    "# Define slices"
   ]
  },
  {
   "cell_type": "code",
   "execution_count": 4,
   "metadata": {},
   "outputs": [
    {
     "name": "stdout",
     "output_type": "stream",
     "text": [
      "Slice: T-shirt/top, Initial size: 100\n",
      "Slice: Trouser, Initial size: 100\n",
      "Slice: Pullover, Initial size: 100\n",
      "Slice: Dress, Initial size: 100\n",
      "Slice: Coat, Initial size: 100\n",
      "Slice: Sandal, Initial size: 100\n",
      "Slice: Shirt, Initial size: 100\n",
      "Slice: Sneaker, Initial size: 100\n",
      "Slice: Bag, Initial size: 100\n",
      "Slice: Ankle boot, Initial size: 100\n"
     ]
    }
   ],
   "source": [
    "slice_desc = []\n",
    "a = [\"T-shirt/top\", \"Trouser\", \"Pullover\", \"Dress\", \"Coat\", \"Sandal\", \"Shirt\", \"Sneaker\", \"Bag\", \"Ankle boot\"]\n",
    "\n",
    "for i in range(num_class):\n",
    "    slice_desc.append('Slice: %s' % (a[i]))\n",
    "    print('Slice: %s, Initial size: %s' % (a[i], initial_data_array[i]))"
   ]
  },
  {
   "cell_type": "markdown",
   "metadata": {},
   "source": [
    "# Original ( with no data acquisition ) "
   ]
  },
  {
   "cell_type": "code",
   "execution_count": 5,
   "metadata": {},
   "outputs": [
    {
     "name": "stdout",
     "output_type": "stream",
     "text": [
      "Method: Uniform, Budget: 0\n",
      "======= Collect Data =======\n",
      "[0 0 0 0 0 0 0 0 0 0]\n",
      "======= Performance =======\n",
      "Loss: 0.47202 (0.00337), Average EER: 0.28311 (0.01103), Max EER: 0.69305 (0.12473)\n",
      "\n"
     ]
    }
   ],
   "source": [
    "cost_func = [1] * num_class\n",
    "lr = 0.0005\n",
    "\n",
    "ori = Baseline((train_data, train_label), (val_data, val_label), val_data_dict, \n",
    "                initial_data_array, num_class, add_data_dict, method='Uniform')\n",
    "ori.performance(budget=0, cost_func=cost_func, num_iter=10, batch_size=32, lr=lr, epochs=2000)"
   ]
  },
  {
   "cell_type": "markdown",
   "metadata": {},
   "source": [
    "# System T Demo on Fashion-MNIST"
   ]
  },
  {
   "cell_type": "markdown",
   "metadata": {},
   "source": [
    "## Use 3000 budget, lambda=0.1, \"Moderate\" strategy"
   ]
  },
  {
   "cell_type": "code",
   "execution_count": 6,
   "metadata": {},
   "outputs": [
    {
     "name": "stdout",
     "output_type": "stream",
     "text": [
      "======= Collect Data =======\n",
      "[ 31  19  45  53  73  25 100  38  11   0]\n",
      "Total Cost: 395, Remaining Budget: 2605\n",
      "======= Collect Data =======\n",
      "[  0  20 225 104 218  64 292  50  91  23]\n",
      "Total Cost: 1087, Remaining Budget: 1518\n",
      "======= Collect Data =======\n",
      "[524  80 204 114 318  43  97 138   0   0]\n",
      "Total Cost: 1518, Remaining Budget: 0\n",
      "\n",
      "======= Performance =======\n",
      "[555. 119. 474. 271. 609. 132. 489. 226. 102.  23.]\n",
      "Number of iteration: 3\n",
      "Strategy: Moderate, C: 0.1, Budget: 3000\n",
      "Loss: 0.34054 (0.00440), Average EER: 0.17254 (0.01276), Max EER: 0.47345 (0.05491)\n",
      "\n"
     ]
    }
   ],
   "source": [
    "budget = 3000\n",
    "method = 'Moderate'\n",
    "\n",
    "st = System_T((train_data, train_label), (val_data, val_label), val_data_dict, initial_data_array, num_class, add_data_dict)\n",
    "st.selective_collect(budget=budget, k=10, batch_size=32, lr = lr, epochs=2000, cost_func=cost_func, \n",
    "                 Lambda=0.1, num_iter=5, slice_desc=slice_desc, strategy=method, show_figure=False)"
   ]
  },
  {
   "cell_type": "markdown",
   "metadata": {},
   "source": [
    "# Baseline: Uniform ( = Water filling )"
   ]
  },
  {
   "cell_type": "markdown",
   "metadata": {},
   "source": [
    "## For a basic setting, Uniform method is equivalent to Water filling method"
   ]
  },
  {
   "cell_type": "code",
   "execution_count": 7,
   "metadata": {},
   "outputs": [
    {
     "name": "stdout",
     "output_type": "stream",
     "text": [
      "Method: Uniform, Budget: 3000\n",
      "======= Collect Data =======\n",
      "[300 300 300 300 300 300 300 300 300 300]\n",
      "======= Performance =======\n",
      "Loss: 0.35459 (0.00572), Average EER: 0.23012 (0.00799), Max EER: 0.69736 (0.07020)\n",
      "\n"
     ]
    }
   ],
   "source": [
    "budget = 3000\n",
    "uni = Baseline((train_data, train_label), (val_data, val_label), val_data_dict, \n",
    "                initial_data_array, num_class, add_data_dict, method='Uniform')\n",
    "uni.performance(budget=budget, cost_func=cost_func, num_iter=10, batch_size=32, lr=lr, epochs=2000)"
   ]
  },
  {
   "cell_type": "markdown",
   "metadata": {},
   "source": [
    "# Summary of results"
   ]
  },
  {
   "cell_type": "markdown",
   "metadata": {},
   "source": [
    "| Method | Loss | Avg.EER |\n",
    "|:---------------------:|:---------------------:|:---------------------:|\n",
    "| Original | 0.47202 (± 0.00169) | 0.28311 (± 0.00551) |\n",
    "| Uniform | 0.35459 (± 0.00286) | 0.23012 (± 0.00400) |\n",
    "| Water filling | 0.35459 (± 0.00286) | 0.23012 (± 0.00400) |\n",
    "| Moderate (ours) | 0.34054 (± 0.00220) | 0.17254 (± 0.00638) |"
   ]
  }
 ],
 "metadata": {
  "kernelspec": {
   "display_name": "Python (tf_gpu)",
   "language": "python",
   "name": "tf_gpu"
  },
  "language_info": {
   "codemirror_mode": {
    "name": "ipython",
    "version": 3
   },
   "file_extension": ".py",
   "mimetype": "text/x-python",
   "name": "python",
   "nbconvert_exporter": "python",
   "pygments_lexer": "ipython3",
   "version": "3.6.9"
  }
 },
 "nbformat": 4,
 "nbformat_minor": 2
}
