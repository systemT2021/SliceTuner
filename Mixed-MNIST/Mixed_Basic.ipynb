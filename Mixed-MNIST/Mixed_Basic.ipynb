{
 "cells": [
  {
   "cell_type": "code",
   "execution_count": 1,
   "metadata": {},
   "outputs": [],
   "source": [
    "from __future__ import absolute_import\n",
    "from __future__ import division\n",
    "from __future__ import print_function\n",
    "\n",
    "import warnings\n",
    "warnings.filterwarnings('ignore')\n",
    "\n",
    "import numpy as np\n",
    "import tensorflow as tf \n",
    "\n",
    "from baseline import Baseline\n",
    "from system_t import System_T"
   ]
  },
  {
   "cell_type": "markdown",
   "metadata": {},
   "source": [
    "# Load Mixed-MNIST dataset from keras"
   ]
  },
  {
   "cell_type": "code",
   "execution_count": 2,
   "metadata": {},
   "outputs": [],
   "source": [
    "from extra_keras_datasets import emnist\n",
    "\n",
    "(mnist_train_images, mnist_train_labels), (mnist_test_images, mnist_test_labels) = emnist.load_data(type='balanced')\n",
    "mnist_train_images = mnist_train_images.reshape((-1, 28, 28, 1)) / 255.0\n",
    "mnist_test_images = mnist_test_images.reshape((-1, 28, 28, 1)) / 255.0\n",
    "\n",
    "idx = mnist_train_labels <= 9\n",
    "mnist_train_images = mnist_train_images[idx]\n",
    "mnist_train_labels = mnist_train_labels[idx]\n",
    "\n",
    "fashion = tf.keras.datasets.fashion_mnist\n",
    "(fashion_train_images,fashion_train_labels), (fashion_test_images, fashion_test_labels) = fashion.load_data()\n",
    "\n",
    "fashion_train_labels = fashion_train_labels + 10\n",
    "fashion_test_labels = fashion_test_labels + 10\n",
    "fashion_train_images = fashion_train_images.reshape((60000, 28, 28, 1)) / 255.0\n",
    "fashion_test_images = fashion_test_images.reshape((10000, 28, 28, 1)) / 255.0\n",
    "\n",
    "train_images = np.concatenate((mnist_train_images, fashion_train_images), axis=0)\n",
    "train_labels = np.concatenate((mnist_train_labels, fashion_train_labels), axis=0)"
   ]
  },
  {
   "cell_type": "markdown",
   "metadata": {},
   "source": [
    "# Basic setting: slices have the same amounts of data"
   ]
  },
  {
   "cell_type": "code",
   "execution_count": 3,
   "metadata": {},
   "outputs": [
    {
     "name": "stdout",
     "output_type": "stream",
     "text": [
      "Number of slices : 20\n",
      "(3000, 28, 28, 1) (3000, 20) 20\n"
     ]
    }
   ],
   "source": [
    "def shuffle(data, label):\n",
    "    shuffle = np.arange(len(data))\n",
    "    np.random.shuffle(shuffle)\n",
    "    data = data[shuffle]\n",
    "    label = label[shuffle]\n",
    "    return data, label\n",
    "\n",
    "num_class = len(np.unique(train_labels))\n",
    "print(\"Number of slices : %d\" % num_class)\n",
    "\n",
    "y_train_one_hot = tf.keras.utils.to_categorical(train_labels)\n",
    "mixed_data = (train_images, y_train_one_hot)\n",
    "\n",
    "initial_data_array = []\n",
    "val_data_dict = []\n",
    "add_data_dict = []\n",
    "    \n",
    "val_data_num = 500\n",
    "\n",
    "for i in range(num_class):\n",
    "    data_num = 150\n",
    "    initial_data_array.append(data_num)\n",
    "    idx = np.argmax(mixed_data[1], axis=1) == i\n",
    "\n",
    "    val_data_dict.append((mixed_data[0][idx][data_num:data_num+val_data_num], mixed_data[1][idx][data_num:data_num+val_data_num]))\n",
    "    add_data_dict.append((mixed_data[0][idx][data_num+val_data_num:], mixed_data[1][idx][data_num+val_data_num:]))\n",
    "\n",
    "    if i == 0:\n",
    "        train_data = mixed_data[0][idx][:data_num]\n",
    "        train_label = mixed_data[1][idx][:data_num]\n",
    "        val_data = mixed_data[0][idx][data_num:data_num+val_data_num]\n",
    "        val_label = mixed_data[1][idx][data_num:data_num+val_data_num]\n",
    "    else:\n",
    "        train_data = np.concatenate((train_data, mixed_data[0][idx][:data_num]), axis=0)\n",
    "        train_label = np.concatenate((train_label, mixed_data[1][idx][:data_num]), axis=0) \n",
    "        val_data = np.concatenate((val_data, mixed_data[0][idx][data_num:data_num+val_data_num]), axis=0)\n",
    "        val_label = np.concatenate((val_label, mixed_data[1][idx][data_num:data_num+val_data_num]), axis=0)   \n",
    "    \n",
    "train_data, train_label = shuffle(train_data, train_label)\n",
    "print(train_data.shape, train_label.shape, num_class)"
   ]
  },
  {
   "cell_type": "markdown",
   "metadata": {},
   "source": [
    "# Define slices"
   ]
  },
  {
   "cell_type": "code",
   "execution_count": 4,
   "metadata": {},
   "outputs": [
    {
     "name": "stdout",
     "output_type": "stream",
     "text": [
      "Slice: Digit 0, Initial size: 150\n",
      "Slice: Digit 1, Initial size: 150\n",
      "Slice: Digit 2, Initial size: 150\n",
      "Slice: Digit 3, Initial size: 150\n",
      "Slice: Digit 4, Initial size: 150\n",
      "Slice: Digit 5, Initial size: 150\n",
      "Slice: Digit 6, Initial size: 150\n",
      "Slice: Digit 7, Initial size: 150\n",
      "Slice: Digit 8, Initial size: 150\n",
      "Slice: Digit 9, Initial size: 150\n",
      "Slice: T-shirt/top, Initial size: 150\n",
      "Slice: Trouser, Initial size: 150\n",
      "Slice: Pullover, Initial size: 150\n",
      "Slice: Dress, Initial size: 150\n",
      "Slice: Coat, Initial size: 150\n",
      "Slice: Sandal, Initial size: 150\n",
      "Slice: Shirt, Initial size: 150\n",
      "Slice: Sneaker, Initial size: 150\n",
      "Slice: Bag, Initial size: 150\n",
      "Slice: Ankle boot, Initial size: 150\n"
     ]
    }
   ],
   "source": [
    "slice_desc = []\n",
    "# Mixed mnist\n",
    "a = [\"Digit 0\", \"Digit 1\",\"Digit 2\",\"Digit 3\",\"Digit 4\",\"Digit 5\",\"Digit 6\",\"Digit 7\",\"Digit 8\",\"Digit 9\",\n",
    "   \"T-shirt/top\", \"Trouser\", \"Pullover\", \"Dress\", \"Coat\", \"Sandal\", \"Shirt\", \"Sneaker\", \"Bag\", \"Ankle boot\"]\n",
    "\n",
    "for i in range(num_class):\n",
    "    slice_desc.append('Slice: %s' % (a[i]))\n",
    "    print('Slice: %s, Initial size: %s' % (a[i], initial_data_array[i]))"
   ]
  },
  {
   "cell_type": "markdown",
   "metadata": {},
   "source": [
    "# Original ( with no data acquisition ) "
   ]
  },
  {
   "cell_type": "code",
   "execution_count": 5,
   "metadata": {},
   "outputs": [
    {
     "name": "stdout",
     "output_type": "stream",
     "text": [
      "Method: Uniform, Budget: 0\n",
      "======= Collect Data =======\n",
      "[0 0 0 0 0 0 0 0 0 0 0 0 0 0 0 0 0 0 0 0]\n",
      "======= Performance =======\n",
      "Loss: 0.30089 (0.00644), Average EER: 0.20728 (0.00725), Max EER: 0.91888 (0.11251)\n",
      "\n"
     ]
    }
   ],
   "source": [
    "cost_func = [1] * num_class\n",
    "lr = 0.0005\n",
    "\n",
    "ori = Baseline((train_data, train_label), (val_data, val_label), val_data_dict, \n",
    "                initial_data_array, num_class, add_data_dict, method='Uniform')\n",
    "ori.performance(budget=0, cost_func=cost_func, num_iter=10, batch_size=32, lr=lr, epochs=2000)"
   ]
  },
  {
   "cell_type": "markdown",
   "metadata": {},
   "source": [
    "# System T Demo on Mixed-MNIST"
   ]
  },
  {
   "cell_type": "markdown",
   "metadata": {},
   "source": [
    "## Use 3000 budget, lambda=0.1, \"Moderate\" strategy"
   ]
  },
  {
   "cell_type": "code",
   "execution_count": 6,
   "metadata": {},
   "outputs": [
    {
     "name": "stdout",
     "output_type": "stream",
     "text": [
      "======= Collect Data =======\n",
      "[  5   9  50  25  41  29   8  14  51  43  32  11 113  81 146  31 150  79\n",
      "   0   0]\n",
      "Total Cost: 918, Remaining Budget: 2082\n",
      "======= Collect Data =======\n",
      "[ 11   0  31  46  47  53   0  71 122  72  36  16 273 172 170  29 300   0\n",
      "  44   0]\n",
      "Total Cost: 1493, Remaining Budget: 589\n",
      "======= Collect Data =======\n",
      "[  5   0   0   0   0   0   0   0   0   0 341  14   0   0   8   6  71  38\n",
      "  85  21]\n",
      "Total Cost: 589, Remaining Budget: 0\n",
      "\n",
      "======= Performance =======\n",
      "[ 21.   9.  81.  71.  88.  82.   8.  85. 173. 115. 409.  41. 386. 253.\n",
      " 324.  66. 521. 117. 129.  21.]\n",
      "Number of iteration: 3\n",
      "Strategy: Moderate, C: 0.1, Budget: 3000\n",
      "Loss: 0.23512 (0.00293), Average EER: 0.14696 (0.00485), Max EER: 0.48164 (0.04695)\n",
      "\n"
     ]
    }
   ],
   "source": [
    "budget = 3000\n",
    "method = 'Moderate'\n",
    "\n",
    "st = System_T((train_data, train_label), (val_data, val_label), val_data_dict, initial_data_array, num_class, add_data_dict)\n",
    "st.selective_collect(budget=budget, k=10, batch_size=32, lr = lr, epochs=2000, cost_func=cost_func, \n",
    "                 Lambda=0.1, num_iter=5, slice_desc=slice_desc, strategy=method, show_figure=False)"
   ]
  },
  {
   "cell_type": "markdown",
   "metadata": {},
   "source": [
    "# Baseline: Uniform ( = Water filling )"
   ]
  },
  {
   "cell_type": "markdown",
   "metadata": {},
   "source": [
    "## For a basic setting, Uniform method is equivalent to Water filling method"
   ]
  },
  {
   "cell_type": "code",
   "execution_count": 7,
   "metadata": {},
   "outputs": [
    {
     "name": "stdout",
     "output_type": "stream",
     "text": [
      "Method: Uniform, Budget: 3000\n",
      "======= Collect Data =======\n",
      "[150 150 150 150 150 150 150 150 150 150 150 150 150 150 150 150 150 150\n",
      " 150 150]\n",
      "======= Performance =======\n",
      "Loss: 0.24014 (0.00339), Average EER: 0.18189 (0.00475), Max EER: 0.67253 (0.08671)\n",
      "\n"
     ]
    }
   ],
   "source": [
    "budget = 3000\n",
    "uni = Baseline((train_data, train_label), (val_data, val_label), val_data_dict, \n",
    "                initial_data_array, num_class, add_data_dict, method='Uniform')\n",
    "uni.performance(budget=budget, cost_func=cost_func, num_iter=10, batch_size=32, lr=lr, epochs=2000)"
   ]
  },
  {
   "cell_type": "markdown",
   "metadata": {},
   "source": [
    "# Summary of results"
   ]
  },
  {
   "cell_type": "markdown",
   "metadata": {},
   "source": [
    "| Method | Loss | Avg.EER |\n",
    "|:---------------------:|:---------------------:|:---------------------:|\n",
    "| Original | 0.30089 (± 0.00322) | 0.20728 (± 0.00363) |\n",
    "| Uniform | 0.24014 (± 0.00169) | 0.18189 (± 0.00237) |\n",
    "| Water filling | 0.24014 (± 0.00169) | 0.18189 (± 0.00237) |\n",
    "| Moderate (ours) | 0.23512 (± 0.00146) | 0.14696 (± 0.00243) |"
   ]
  }
 ],
 "metadata": {
  "kernelspec": {
   "display_name": "Python (tf_gpu)",
   "language": "python",
   "name": "tf_gpu"
  },
  "language_info": {
   "codemirror_mode": {
    "name": "ipython",
    "version": 3
   },
   "file_extension": ".py",
   "mimetype": "text/x-python",
   "name": "python",
   "nbconvert_exporter": "python",
   "pygments_lexer": "ipython3",
   "version": "3.6.9"
  }
 },
 "nbformat": 4,
 "nbformat_minor": 2
}
